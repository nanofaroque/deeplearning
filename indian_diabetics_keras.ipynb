{
  "nbformat": 4,
  "nbformat_minor": 0,
  "metadata": {
    "colab": {
      "name": "indian_diabetics_keras.ipynb",
      "provenance": [],
      "include_colab_link": true
    },
    "kernelspec": {
      "name": "python3",
      "display_name": "Python 3"
    }
  },
  "cells": [
    {
      "cell_type": "markdown",
      "metadata": {
        "id": "view-in-github",
        "colab_type": "text"
      },
      "source": [
        "<a href=\"https://colab.research.google.com/github/nanofaroque/deeplearning/blob/master/indian_diabetics_keras.ipynb\" target=\"_parent\"><img src=\"https://colab.research.google.com/assets/colab-badge.svg\" alt=\"Open In Colab\"/></a>"
      ]
    },
    {
      "cell_type": "code",
      "metadata": {
        "id": "oOrSxfNuR66A",
        "colab_type": "code",
        "colab": {
          "resources": {
            "http://localhost:8080/nbextensions/google.colab/files.js": {
              "data": "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",
              "ok": true,
              "headers": [
                [
                  "content-type",
                  "application/javascript"
                ]
              ],
              "status": 200,
              "status_text": ""
            }
          },
          "base_uri": "https://localhost:8080/",
          "height": 71
        },
        "outputId": "5079c11f-0151-47c6-d8a3-31c2b2d9b1d4"
      },
      "source": [
        "import pandas as pd\n",
        "from google.colab import files\n",
        "uploaded = files.upload()"
      ],
      "execution_count": 1,
      "outputs": [
        {
          "output_type": "display_data",
          "data": {
            "text/html": [
              "\n",
              "     <input type=\"file\" id=\"files-a0275ed9-ff17-44c9-aef7-7fc64471efaa\" name=\"files[]\" multiple disabled />\n",
              "     <output id=\"result-a0275ed9-ff17-44c9-aef7-7fc64471efaa\">\n",
              "      Upload widget is only available when the cell has been executed in the\n",
              "      current browser session. Please rerun this cell to enable.\n",
              "      </output>\n",
              "      <script src=\"/nbextensions/google.colab/files.js\"></script> "
            ],
            "text/plain": [
              "<IPython.core.display.HTML object>"
            ]
          },
          "metadata": {
            "tags": []
          }
        },
        {
          "output_type": "stream",
          "text": [
            "Saving pima-indians-diabetes.csv to pima-indians-diabetes.csv\n"
          ],
          "name": "stdout"
        }
      ]
    },
    {
      "cell_type": "code",
      "metadata": {
        "id": "GosSGJhGSHzN",
        "colab_type": "code",
        "colab": {}
      },
      "source": [
        "import io\n",
        "df = pd.read_csv(io.BytesIO(uploaded['pima-indians-diabetes.csv']))"
      ],
      "execution_count": 0,
      "outputs": []
    },
    {
      "cell_type": "code",
      "metadata": {
        "id": "PZp46EDQSVUb",
        "colab_type": "code",
        "colab": {
          "base_uri": "https://localhost:8080/",
          "height": 49
        },
        "outputId": "d86140e1-e399-4c1e-83f3-19ef7b6e8ad0"
      },
      "source": [
        "df.head(0)"
      ],
      "execution_count": 3,
      "outputs": [
        {
          "output_type": "execute_result",
          "data": {
            "text/html": [
              "<div>\n",
              "<style scoped>\n",
              "    .dataframe tbody tr th:only-of-type {\n",
              "        vertical-align: middle;\n",
              "    }\n",
              "\n",
              "    .dataframe tbody tr th {\n",
              "        vertical-align: top;\n",
              "    }\n",
              "\n",
              "    .dataframe thead th {\n",
              "        text-align: right;\n",
              "    }\n",
              "</style>\n",
              "<table border=\"1\" class=\"dataframe\">\n",
              "  <thead>\n",
              "    <tr style=\"text-align: right;\">\n",
              "      <th></th>\n",
              "      <th>6</th>\n",
              "      <th>148</th>\n",
              "      <th>72</th>\n",
              "      <th>35</th>\n",
              "      <th>0</th>\n",
              "      <th>33.6</th>\n",
              "      <th>0.627</th>\n",
              "      <th>50</th>\n",
              "      <th>1</th>\n",
              "    </tr>\n",
              "  </thead>\n",
              "  <tbody>\n",
              "  </tbody>\n",
              "</table>\n",
              "</div>"
            ],
            "text/plain": [
              "Empty DataFrame\n",
              "Columns: [6, 148, 72, 35, 0, 33.6, 0.627, 50, 1]\n",
              "Index: []"
            ]
          },
          "metadata": {
            "tags": []
          },
          "execution_count": 3
        }
      ]
    },
    {
      "cell_type": "code",
      "metadata": {
        "id": "0rz0IskcSWlb",
        "colab_type": "code",
        "colab": {}
      },
      "source": [
        "from sklearn.model_selection import train_test_split\n",
        "\n",
        "train, test = train_test_split(df, test_size=0.2)"
      ],
      "execution_count": 0,
      "outputs": []
    },
    {
      "cell_type": "code",
      "metadata": {
        "id": "Jkj3zVrvS7Js",
        "colab_type": "code",
        "colab": {
          "base_uri": "https://localhost:8080/",
          "height": 204
        },
        "outputId": "ddc2983f-0094-47f6-fd71-ca38cc696c81"
      },
      "source": [
        "train.head()"
      ],
      "execution_count": 11,
      "outputs": [
        {
          "output_type": "execute_result",
          "data": {
            "text/html": [
              "<div>\n",
              "<style scoped>\n",
              "    .dataframe tbody tr th:only-of-type {\n",
              "        vertical-align: middle;\n",
              "    }\n",
              "\n",
              "    .dataframe tbody tr th {\n",
              "        vertical-align: top;\n",
              "    }\n",
              "\n",
              "    .dataframe thead th {\n",
              "        text-align: right;\n",
              "    }\n",
              "</style>\n",
              "<table border=\"1\" class=\"dataframe\">\n",
              "  <thead>\n",
              "    <tr style=\"text-align: right;\">\n",
              "      <th></th>\n",
              "      <th>6</th>\n",
              "      <th>148</th>\n",
              "      <th>72</th>\n",
              "      <th>35</th>\n",
              "      <th>0</th>\n",
              "      <th>33.6</th>\n",
              "      <th>0.627</th>\n",
              "      <th>50</th>\n",
              "      <th>1</th>\n",
              "    </tr>\n",
              "  </thead>\n",
              "  <tbody>\n",
              "    <tr>\n",
              "      <th>639</th>\n",
              "      <td>0</td>\n",
              "      <td>102</td>\n",
              "      <td>86</td>\n",
              "      <td>17</td>\n",
              "      <td>105</td>\n",
              "      <td>29.3</td>\n",
              "      <td>0.695</td>\n",
              "      <td>27</td>\n",
              "      <td>0</td>\n",
              "    </tr>\n",
              "    <tr>\n",
              "      <th>20</th>\n",
              "      <td>8</td>\n",
              "      <td>99</td>\n",
              "      <td>84</td>\n",
              "      <td>0</td>\n",
              "      <td>0</td>\n",
              "      <td>35.4</td>\n",
              "      <td>0.388</td>\n",
              "      <td>50</td>\n",
              "      <td>0</td>\n",
              "    </tr>\n",
              "    <tr>\n",
              "      <th>135</th>\n",
              "      <td>0</td>\n",
              "      <td>100</td>\n",
              "      <td>70</td>\n",
              "      <td>26</td>\n",
              "      <td>50</td>\n",
              "      <td>30.8</td>\n",
              "      <td>0.597</td>\n",
              "      <td>21</td>\n",
              "      <td>0</td>\n",
              "    </tr>\n",
              "    <tr>\n",
              "      <th>466</th>\n",
              "      <td>0</td>\n",
              "      <td>97</td>\n",
              "      <td>64</td>\n",
              "      <td>36</td>\n",
              "      <td>100</td>\n",
              "      <td>36.8</td>\n",
              "      <td>0.600</td>\n",
              "      <td>25</td>\n",
              "      <td>0</td>\n",
              "    </tr>\n",
              "    <tr>\n",
              "      <th>465</th>\n",
              "      <td>0</td>\n",
              "      <td>74</td>\n",
              "      <td>52</td>\n",
              "      <td>10</td>\n",
              "      <td>36</td>\n",
              "      <td>27.8</td>\n",
              "      <td>0.269</td>\n",
              "      <td>22</td>\n",
              "      <td>0</td>\n",
              "    </tr>\n",
              "  </tbody>\n",
              "</table>\n",
              "</div>"
            ],
            "text/plain": [
              "     6  148  72  35    0  33.6  0.627  50  1\n",
              "639  0  102  86  17  105  29.3  0.695  27  0\n",
              "20   8   99  84   0    0  35.4  0.388  50  0\n",
              "135  0  100  70  26   50  30.8  0.597  21  0\n",
              "466  0   97  64  36  100  36.8  0.600  25  0\n",
              "465  0   74  52  10   36  27.8  0.269  22  0"
            ]
          },
          "metadata": {
            "tags": []
          },
          "execution_count": 11
        }
      ]
    },
    {
      "cell_type": "code",
      "metadata": {
        "id": "-yV4DMAJS_Yc",
        "colab_type": "code",
        "colab": {
          "base_uri": "https://localhost:8080/",
          "height": 204
        },
        "outputId": "ba663190-df99-454e-cbab-64e207904555"
      },
      "source": [
        "test.head()"
      ],
      "execution_count": 12,
      "outputs": [
        {
          "output_type": "execute_result",
          "data": {
            "text/html": [
              "<div>\n",
              "<style scoped>\n",
              "    .dataframe tbody tr th:only-of-type {\n",
              "        vertical-align: middle;\n",
              "    }\n",
              "\n",
              "    .dataframe tbody tr th {\n",
              "        vertical-align: top;\n",
              "    }\n",
              "\n",
              "    .dataframe thead th {\n",
              "        text-align: right;\n",
              "    }\n",
              "</style>\n",
              "<table border=\"1\" class=\"dataframe\">\n",
              "  <thead>\n",
              "    <tr style=\"text-align: right;\">\n",
              "      <th></th>\n",
              "      <th>6</th>\n",
              "      <th>148</th>\n",
              "      <th>72</th>\n",
              "      <th>35</th>\n",
              "      <th>0</th>\n",
              "      <th>33.6</th>\n",
              "      <th>0.627</th>\n",
              "      <th>50</th>\n",
              "      <th>1</th>\n",
              "    </tr>\n",
              "  </thead>\n",
              "  <tbody>\n",
              "    <tr>\n",
              "      <th>342</th>\n",
              "      <td>5</td>\n",
              "      <td>122</td>\n",
              "      <td>86</td>\n",
              "      <td>0</td>\n",
              "      <td>0</td>\n",
              "      <td>34.7</td>\n",
              "      <td>0.290</td>\n",
              "      <td>33</td>\n",
              "      <td>0</td>\n",
              "    </tr>\n",
              "    <tr>\n",
              "      <th>666</th>\n",
              "      <td>10</td>\n",
              "      <td>111</td>\n",
              "      <td>70</td>\n",
              "      <td>27</td>\n",
              "      <td>0</td>\n",
              "      <td>27.5</td>\n",
              "      <td>0.141</td>\n",
              "      <td>40</td>\n",
              "      <td>1</td>\n",
              "    </tr>\n",
              "    <tr>\n",
              "      <th>689</th>\n",
              "      <td>8</td>\n",
              "      <td>107</td>\n",
              "      <td>80</td>\n",
              "      <td>0</td>\n",
              "      <td>0</td>\n",
              "      <td>24.6</td>\n",
              "      <td>0.856</td>\n",
              "      <td>34</td>\n",
              "      <td>0</td>\n",
              "    </tr>\n",
              "    <tr>\n",
              "      <th>630</th>\n",
              "      <td>0</td>\n",
              "      <td>102</td>\n",
              "      <td>78</td>\n",
              "      <td>40</td>\n",
              "      <td>90</td>\n",
              "      <td>34.5</td>\n",
              "      <td>0.238</td>\n",
              "      <td>24</td>\n",
              "      <td>0</td>\n",
              "    </tr>\n",
              "    <tr>\n",
              "      <th>157</th>\n",
              "      <td>2</td>\n",
              "      <td>88</td>\n",
              "      <td>74</td>\n",
              "      <td>19</td>\n",
              "      <td>53</td>\n",
              "      <td>29.0</td>\n",
              "      <td>0.229</td>\n",
              "      <td>22</td>\n",
              "      <td>0</td>\n",
              "    </tr>\n",
              "  </tbody>\n",
              "</table>\n",
              "</div>"
            ],
            "text/plain": [
              "      6  148  72  35   0  33.6  0.627  50  1\n",
              "342   5  122  86   0   0  34.7  0.290  33  0\n",
              "666  10  111  70  27   0  27.5  0.141  40  1\n",
              "689   8  107  80   0   0  24.6  0.856  34  0\n",
              "630   0  102  78  40  90  34.5  0.238  24  0\n",
              "157   2   88  74  19  53  29.0  0.229  22  0"
            ]
          },
          "metadata": {
            "tags": []
          },
          "execution_count": 12
        }
      ]
    },
    {
      "cell_type": "code",
      "metadata": {
        "id": "TEhHwdNvTBXV",
        "colab_type": "code",
        "colab": {
          "base_uri": "https://localhost:8080/",
          "height": 34
        },
        "outputId": "eceaa509-c323-4600-afbf-5e395cd85839"
      },
      "source": [
        "# Import library\n",
        "from keras.models import Sequential\n",
        "from keras.layers import Dense\n"
      ],
      "execution_count": 7,
      "outputs": [
        {
          "output_type": "stream",
          "text": [
            "Using TensorFlow backend.\n"
          ],
          "name": "stderr"
        }
      ]
    },
    {
      "cell_type": "code",
      "metadata": {
        "id": "mEK-chYGUweY",
        "colab_type": "code",
        "colab": {}
      },
      "source": [
        "# creating model\n",
        "model=Sequential()\n",
        "model.add(Dense(12,input_dim=8,activation='relu'))\n",
        "model.add(Dense(8,activation='relu'))\n",
        "#model.add(Dense(4,activation='relu'))\n",
        "model.add(Dense(1,activation='sigmoid'))"
      ],
      "execution_count": 0,
      "outputs": []
    },
    {
      "cell_type": "code",
      "metadata": {
        "id": "gWcDoVv5VNcL",
        "colab_type": "code",
        "colab": {}
      },
      "source": [
        "# compile the model\n",
        "model.compile(loss='binary_crossentropy', optimizer='adam', metrics=['accuracy'])"
      ],
      "execution_count": 0,
      "outputs": []
    },
    {
      "cell_type": "code",
      "metadata": {
        "id": "vgM_jw1YVjwa",
        "colab_type": "code",
        "colab": {
          "base_uri": "https://localhost:8080/",
          "height": 136
        },
        "outputId": "d2a21b28-4ad5-462a-d731-349330cb8c9e"
      },
      "source": [
        "print (type(train))\n",
        "X = train.iloc[:,0:8]\n",
        "X.head()\n",
        "y = train.iloc[:,8]\n",
        "y.head()"
      ],
      "execution_count": 32,
      "outputs": [
        {
          "output_type": "stream",
          "text": [
            "<class 'pandas.core.frame.DataFrame'>\n"
          ],
          "name": "stdout"
        },
        {
          "output_type": "execute_result",
          "data": {
            "text/plain": [
              "639    0\n",
              "20     0\n",
              "135    0\n",
              "466    0\n",
              "465    0\n",
              "Name: 1, dtype: int64"
            ]
          },
          "metadata": {
            "tags": []
          },
          "execution_count": 32
        }
      ]
    },
    {
      "cell_type": "code",
      "metadata": {
        "id": "257biRgNVoau",
        "colab_type": "code",
        "colab": {
          "base_uri": "https://localhost:8080/",
          "height": 1000
        },
        "outputId": "5ce4bc30-5f61-48fb-b80e-50e8f4ecde32"
      },
      "source": [
        "# fit the keras model on the dataset\n",
        "model.fit(X, y, epochs=150, batch_size=10)"
      ],
      "execution_count": 33,
      "outputs": [
        {
          "output_type": "stream",
          "text": [
            "Epoch 1/150\n",
            "613/613 [==============================] - 0s 791us/step - loss: 5.2544 - acc: 0.4454\n",
            "Epoch 2/150\n",
            "613/613 [==============================] - 0s 147us/step - loss: 0.8570 - acc: 0.6509\n",
            "Epoch 3/150\n",
            "613/613 [==============================] - 0s 155us/step - loss: 0.7028 - acc: 0.6639\n",
            "Epoch 4/150\n",
            "613/613 [==============================] - 0s 153us/step - loss: 0.6706 - acc: 0.6656\n",
            "Epoch 5/150\n",
            "613/613 [==============================] - 0s 184us/step - loss: 0.6535 - acc: 0.6705\n",
            "Epoch 6/150\n",
            "613/613 [==============================] - 0s 173us/step - loss: 0.6624 - acc: 0.6770\n",
            "Epoch 7/150\n",
            "613/613 [==============================] - 0s 152us/step - loss: 0.6671 - acc: 0.6542\n",
            "Epoch 8/150\n",
            "613/613 [==============================] - 0s 146us/step - loss: 0.6709 - acc: 0.6639\n",
            "Epoch 9/150\n",
            "613/613 [==============================] - 0s 146us/step - loss: 0.6563 - acc: 0.6705\n",
            "Epoch 10/150\n",
            "613/613 [==============================] - 0s 158us/step - loss: 0.6637 - acc: 0.6672\n",
            "Epoch 11/150\n",
            "613/613 [==============================] - 0s 144us/step - loss: 0.6442 - acc: 0.6672\n",
            "Epoch 12/150\n",
            "613/613 [==============================] - 0s 148us/step - loss: 0.6180 - acc: 0.6852\n",
            "Epoch 13/150\n",
            "613/613 [==============================] - 0s 151us/step - loss: 0.6450 - acc: 0.6770\n",
            "Epoch 14/150\n",
            "613/613 [==============================] - 0s 144us/step - loss: 0.6384 - acc: 0.6591\n",
            "Epoch 15/150\n",
            "613/613 [==============================] - 0s 144us/step - loss: 0.6345 - acc: 0.6705\n",
            "Epoch 16/150\n",
            "613/613 [==============================] - 0s 150us/step - loss: 0.6152 - acc: 0.6737\n",
            "Epoch 17/150\n",
            "613/613 [==============================] - 0s 154us/step - loss: 0.6319 - acc: 0.6705\n",
            "Epoch 18/150\n",
            "613/613 [==============================] - 0s 157us/step - loss: 0.6010 - acc: 0.6884\n",
            "Epoch 19/150\n",
            "613/613 [==============================] - 0s 153us/step - loss: 0.6399 - acc: 0.6786\n",
            "Epoch 20/150\n",
            "613/613 [==============================] - 0s 155us/step - loss: 0.6433 - acc: 0.6672\n",
            "Epoch 21/150\n",
            "613/613 [==============================] - 0s 191us/step - loss: 0.6149 - acc: 0.6900\n",
            "Epoch 22/150\n",
            "613/613 [==============================] - 0s 153us/step - loss: 0.5971 - acc: 0.6949\n",
            "Epoch 23/150\n",
            "613/613 [==============================] - 0s 152us/step - loss: 0.5975 - acc: 0.6884\n",
            "Epoch 24/150\n",
            "613/613 [==============================] - 0s 143us/step - loss: 0.6041 - acc: 0.6884\n",
            "Epoch 25/150\n",
            "613/613 [==============================] - 0s 143us/step - loss: 0.5911 - acc: 0.7015\n",
            "Epoch 26/150\n",
            "613/613 [==============================] - 0s 145us/step - loss: 0.5953 - acc: 0.6900\n",
            "Epoch 27/150\n",
            "613/613 [==============================] - 0s 143us/step - loss: 0.5965 - acc: 0.7064\n",
            "Epoch 28/150\n",
            "613/613 [==============================] - 0s 149us/step - loss: 0.6054 - acc: 0.6835\n",
            "Epoch 29/150\n",
            "613/613 [==============================] - 0s 146us/step - loss: 0.5914 - acc: 0.7194\n",
            "Epoch 30/150\n",
            "613/613 [==============================] - 0s 149us/step - loss: 0.5819 - acc: 0.6998\n",
            "Epoch 31/150\n",
            "613/613 [==============================] - 0s 141us/step - loss: 0.6052 - acc: 0.7047\n",
            "Epoch 32/150\n",
            "613/613 [==============================] - 0s 145us/step - loss: 0.5965 - acc: 0.7113\n",
            "Epoch 33/150\n",
            "613/613 [==============================] - 0s 150us/step - loss: 0.5939 - acc: 0.7145\n",
            "Epoch 34/150\n",
            "613/613 [==============================] - 0s 143us/step - loss: 0.5998 - acc: 0.7096\n",
            "Epoch 35/150\n",
            "613/613 [==============================] - 0s 136us/step - loss: 0.6185 - acc: 0.7031\n",
            "Epoch 36/150\n",
            "613/613 [==============================] - 0s 148us/step - loss: 0.5978 - acc: 0.7080\n",
            "Epoch 37/150\n",
            "613/613 [==============================] - 0s 150us/step - loss: 0.6061 - acc: 0.6933\n",
            "Epoch 38/150\n",
            "613/613 [==============================] - 0s 153us/step - loss: 0.6003 - acc: 0.6998\n",
            "Epoch 39/150\n",
            "613/613 [==============================] - 0s 162us/step - loss: 0.5998 - acc: 0.6998\n",
            "Epoch 40/150\n",
            "613/613 [==============================] - 0s 155us/step - loss: 0.5811 - acc: 0.7162\n",
            "Epoch 41/150\n",
            "613/613 [==============================] - 0s 177us/step - loss: 0.5708 - acc: 0.7243\n",
            "Epoch 42/150\n",
            "613/613 [==============================] - 0s 143us/step - loss: 0.5744 - acc: 0.7325\n",
            "Epoch 43/150\n",
            "613/613 [==============================] - 0s 151us/step - loss: 0.5744 - acc: 0.7129\n",
            "Epoch 44/150\n",
            "613/613 [==============================] - 0s 142us/step - loss: 0.5966 - acc: 0.7129\n",
            "Epoch 45/150\n",
            "613/613 [==============================] - 0s 153us/step - loss: 0.5875 - acc: 0.6966\n",
            "Epoch 46/150\n",
            "613/613 [==============================] - 0s 154us/step - loss: 0.5745 - acc: 0.7113\n",
            "Epoch 47/150\n",
            "613/613 [==============================] - 0s 167us/step - loss: 0.5930 - acc: 0.6998\n",
            "Epoch 48/150\n",
            "613/613 [==============================] - 0s 162us/step - loss: 0.5639 - acc: 0.7162\n",
            "Epoch 49/150\n",
            "613/613 [==============================] - 0s 146us/step - loss: 0.5701 - acc: 0.7227\n",
            "Epoch 50/150\n",
            "613/613 [==============================] - 0s 155us/step - loss: 0.5740 - acc: 0.7194\n",
            "Epoch 51/150\n",
            "613/613 [==============================] - 0s 194us/step - loss: 0.5749 - acc: 0.7096\n",
            "Epoch 52/150\n",
            "613/613 [==============================] - 0s 189us/step - loss: 0.5598 - acc: 0.7162\n",
            "Epoch 53/150\n",
            "613/613 [==============================] - 0s 148us/step - loss: 0.5594 - acc: 0.7325\n",
            "Epoch 54/150\n",
            "613/613 [==============================] - 0s 164us/step - loss: 0.5697 - acc: 0.7194\n",
            "Epoch 55/150\n",
            "613/613 [==============================] - 0s 148us/step - loss: 0.5584 - acc: 0.7292\n",
            "Epoch 56/150\n",
            "613/613 [==============================] - 0s 156us/step - loss: 0.5845 - acc: 0.7178\n",
            "Epoch 57/150\n",
            "613/613 [==============================] - 0s 158us/step - loss: 0.5722 - acc: 0.7259\n",
            "Epoch 58/150\n",
            "613/613 [==============================] - 0s 152us/step - loss: 0.5743 - acc: 0.7406\n",
            "Epoch 59/150\n",
            "613/613 [==============================] - 0s 158us/step - loss: 0.5838 - acc: 0.7178\n",
            "Epoch 60/150\n",
            "613/613 [==============================] - 0s 152us/step - loss: 0.5647 - acc: 0.7227\n",
            "Epoch 61/150\n",
            "613/613 [==============================] - 0s 160us/step - loss: 0.5584 - acc: 0.7423\n",
            "Epoch 62/150\n",
            "613/613 [==============================] - 0s 147us/step - loss: 0.5618 - acc: 0.7325\n",
            "Epoch 63/150\n",
            "613/613 [==============================] - 0s 141us/step - loss: 0.5882 - acc: 0.7259\n",
            "Epoch 64/150\n",
            "613/613 [==============================] - 0s 162us/step - loss: 0.5766 - acc: 0.7210\n",
            "Epoch 65/150\n",
            "613/613 [==============================] - 0s 152us/step - loss: 0.5631 - acc: 0.7357\n",
            "Epoch 66/150\n",
            "613/613 [==============================] - 0s 187us/step - loss: 0.5556 - acc: 0.7325\n",
            "Epoch 67/150\n",
            "613/613 [==============================] - 0s 158us/step - loss: 0.5598 - acc: 0.7276\n",
            "Epoch 68/150\n",
            "613/613 [==============================] - 0s 158us/step - loss: 0.5660 - acc: 0.7325\n",
            "Epoch 69/150\n",
            "613/613 [==============================] - 0s 151us/step - loss: 0.5539 - acc: 0.7471\n",
            "Epoch 70/150\n",
            "613/613 [==============================] - 0s 158us/step - loss: 0.5479 - acc: 0.7423\n",
            "Epoch 71/150\n",
            "613/613 [==============================] - 0s 186us/step - loss: 0.5610 - acc: 0.7374\n",
            "Epoch 72/150\n",
            "613/613 [==============================] - 0s 147us/step - loss: 0.5535 - acc: 0.7341\n",
            "Epoch 73/150\n",
            "613/613 [==============================] - 0s 149us/step - loss: 0.5699 - acc: 0.7227\n",
            "Epoch 74/150\n",
            "613/613 [==============================] - 0s 158us/step - loss: 0.5748 - acc: 0.7276\n",
            "Epoch 75/150\n",
            "613/613 [==============================] - 0s 150us/step - loss: 0.5573 - acc: 0.7145\n",
            "Epoch 76/150\n",
            "613/613 [==============================] - 0s 155us/step - loss: 0.5494 - acc: 0.7390\n",
            "Epoch 77/150\n",
            "613/613 [==============================] - 0s 162us/step - loss: 0.5570 - acc: 0.7292\n",
            "Epoch 78/150\n",
            "613/613 [==============================] - 0s 168us/step - loss: 0.5640 - acc: 0.7243\n",
            "Epoch 79/150\n",
            "613/613 [==============================] - 0s 146us/step - loss: 0.5583 - acc: 0.7064\n",
            "Epoch 80/150\n",
            "613/613 [==============================] - 0s 164us/step - loss: 0.5423 - acc: 0.7390\n",
            "Epoch 81/150\n",
            "613/613 [==============================] - 0s 167us/step - loss: 0.5421 - acc: 0.7455\n",
            "Epoch 82/150\n",
            "613/613 [==============================] - 0s 162us/step - loss: 0.5586 - acc: 0.7357\n",
            "Epoch 83/150\n",
            "613/613 [==============================] - 0s 149us/step - loss: 0.5465 - acc: 0.7488\n",
            "Epoch 84/150\n",
            "613/613 [==============================] - 0s 162us/step - loss: 0.5407 - acc: 0.7537\n",
            "Epoch 85/150\n",
            "613/613 [==============================] - 0s 154us/step - loss: 0.5495 - acc: 0.7439\n",
            "Epoch 86/150\n",
            "613/613 [==============================] - 0s 163us/step - loss: 0.5460 - acc: 0.7210\n",
            "Epoch 87/150\n",
            "613/613 [==============================] - 0s 160us/step - loss: 0.5547 - acc: 0.7292\n",
            "Epoch 88/150\n",
            "613/613 [==============================] - 0s 150us/step - loss: 0.5473 - acc: 0.7423\n",
            "Epoch 89/150\n",
            "613/613 [==============================] - 0s 149us/step - loss: 0.5408 - acc: 0.7504\n",
            "Epoch 90/150\n",
            "613/613 [==============================] - 0s 157us/step - loss: 0.5408 - acc: 0.7423\n",
            "Epoch 91/150\n",
            "613/613 [==============================] - 0s 149us/step - loss: 0.5395 - acc: 0.7586\n",
            "Epoch 92/150\n",
            "613/613 [==============================] - 0s 155us/step - loss: 0.5485 - acc: 0.7276\n",
            "Epoch 93/150\n",
            "613/613 [==============================] - 0s 152us/step - loss: 0.5317 - acc: 0.7455\n",
            "Epoch 94/150\n",
            "613/613 [==============================] - 0s 195us/step - loss: 0.5606 - acc: 0.7292\n",
            "Epoch 95/150\n",
            "613/613 [==============================] - 0s 164us/step - loss: 0.5467 - acc: 0.7406\n",
            "Epoch 96/150\n",
            "613/613 [==============================] - 0s 158us/step - loss: 0.5448 - acc: 0.7341\n",
            "Epoch 97/150\n",
            "613/613 [==============================] - 0s 162us/step - loss: 0.5390 - acc: 0.7439\n",
            "Epoch 98/150\n",
            "613/613 [==============================] - 0s 166us/step - loss: 0.5352 - acc: 0.7488\n",
            "Epoch 99/150\n",
            "613/613 [==============================] - 0s 167us/step - loss: 0.5387 - acc: 0.7341\n",
            "Epoch 100/150\n",
            "613/613 [==============================] - 0s 146us/step - loss: 0.5304 - acc: 0.7423\n",
            "Epoch 101/150\n",
            "613/613 [==============================] - 0s 157us/step - loss: 0.5353 - acc: 0.7374\n",
            "Epoch 102/150\n",
            "613/613 [==============================] - 0s 154us/step - loss: 0.5328 - acc: 0.7520\n",
            "Epoch 103/150\n",
            "613/613 [==============================] - 0s 154us/step - loss: 0.5358 - acc: 0.7390\n",
            "Epoch 104/150\n",
            "613/613 [==============================] - 0s 166us/step - loss: 0.5278 - acc: 0.7586\n",
            "Epoch 105/150\n",
            "613/613 [==============================] - 0s 150us/step - loss: 0.5328 - acc: 0.7439\n",
            "Epoch 106/150\n",
            "613/613 [==============================] - 0s 160us/step - loss: 0.5594 - acc: 0.7276\n",
            "Epoch 107/150\n",
            "613/613 [==============================] - 0s 158us/step - loss: 0.5290 - acc: 0.7471\n",
            "Epoch 108/150\n",
            "613/613 [==============================] - 0s 202us/step - loss: 0.5245 - acc: 0.7390\n",
            "Epoch 109/150\n",
            "613/613 [==============================] - 0s 162us/step - loss: 0.5385 - acc: 0.7471\n",
            "Epoch 110/150\n",
            "613/613 [==============================] - 0s 154us/step - loss: 0.5300 - acc: 0.7390\n",
            "Epoch 111/150\n",
            "613/613 [==============================] - 0s 196us/step - loss: 0.5545 - acc: 0.7227\n",
            "Epoch 112/150\n",
            "613/613 [==============================] - 0s 142us/step - loss: 0.5535 - acc: 0.7455\n",
            "Epoch 113/150\n",
            "613/613 [==============================] - 0s 154us/step - loss: 0.5341 - acc: 0.7341\n",
            "Epoch 114/150\n",
            "613/613 [==============================] - 0s 161us/step - loss: 0.5415 - acc: 0.7406\n",
            "Epoch 115/150\n",
            "613/613 [==============================] - 0s 177us/step - loss: 0.5518 - acc: 0.7292\n",
            "Epoch 116/150\n",
            "613/613 [==============================] - 0s 172us/step - loss: 0.5318 - acc: 0.7504\n",
            "Epoch 117/150\n",
            "613/613 [==============================] - 0s 149us/step - loss: 0.5412 - acc: 0.7439\n",
            "Epoch 118/150\n",
            "613/613 [==============================] - 0s 191us/step - loss: 0.5338 - acc: 0.7406\n",
            "Epoch 119/150\n",
            "613/613 [==============================] - 0s 165us/step - loss: 0.5499 - acc: 0.7520\n",
            "Epoch 120/150\n",
            "613/613 [==============================] - 0s 140us/step - loss: 0.5391 - acc: 0.7325\n",
            "Epoch 121/150\n",
            "613/613 [==============================] - 0s 164us/step - loss: 0.5323 - acc: 0.7325\n",
            "Epoch 122/150\n",
            "613/613 [==============================] - 0s 151us/step - loss: 0.5755 - acc: 0.7276\n",
            "Epoch 123/150\n",
            "613/613 [==============================] - 0s 165us/step - loss: 0.5495 - acc: 0.7341\n",
            "Epoch 124/150\n",
            "613/613 [==============================] - 0s 168us/step - loss: 0.5222 - acc: 0.7504\n",
            "Epoch 125/150\n",
            "613/613 [==============================] - 0s 165us/step - loss: 0.5226 - acc: 0.7471\n",
            "Epoch 126/150\n",
            "613/613 [==============================] - 0s 154us/step - loss: 0.5351 - acc: 0.7423\n",
            "Epoch 127/150\n",
            "613/613 [==============================] - 0s 198us/step - loss: 0.5220 - acc: 0.7374\n",
            "Epoch 128/150\n",
            "613/613 [==============================] - 0s 149us/step - loss: 0.5252 - acc: 0.7488\n",
            "Epoch 129/150\n",
            "613/613 [==============================] - 0s 162us/step - loss: 0.5220 - acc: 0.7325\n",
            "Epoch 130/150\n",
            "613/613 [==============================] - 0s 148us/step - loss: 0.5307 - acc: 0.7520\n",
            "Epoch 131/150\n",
            "613/613 [==============================] - 0s 162us/step - loss: 0.5207 - acc: 0.7488\n",
            "Epoch 132/150\n",
            "613/613 [==============================] - 0s 160us/step - loss: 0.5306 - acc: 0.7357\n",
            "Epoch 133/150\n",
            "613/613 [==============================] - 0s 160us/step - loss: 0.5206 - acc: 0.7455\n",
            "Epoch 134/150\n",
            "613/613 [==============================] - 0s 162us/step - loss: 0.5196 - acc: 0.7569\n",
            "Epoch 135/150\n",
            "613/613 [==============================] - 0s 157us/step - loss: 0.5210 - acc: 0.7423\n",
            "Epoch 136/150\n",
            "613/613 [==============================] - 0s 158us/step - loss: 0.5191 - acc: 0.7569\n",
            "Epoch 137/150\n",
            "613/613 [==============================] - 0s 173us/step - loss: 0.5127 - acc: 0.7651\n",
            "Epoch 138/150\n",
            "613/613 [==============================] - 0s 163us/step - loss: 0.5231 - acc: 0.7586\n",
            "Epoch 139/150\n",
            "613/613 [==============================] - 0s 156us/step - loss: 0.5228 - acc: 0.7618\n",
            "Epoch 140/150\n",
            "613/613 [==============================] - 0s 159us/step - loss: 0.5187 - acc: 0.7553\n",
            "Epoch 141/150\n",
            "613/613 [==============================] - 0s 154us/step - loss: 0.5133 - acc: 0.7406\n",
            "Epoch 142/150\n",
            "613/613 [==============================] - 0s 151us/step - loss: 0.5142 - acc: 0.7602\n",
            "Epoch 143/150\n",
            "613/613 [==============================] - 0s 164us/step - loss: 0.5182 - acc: 0.7439\n",
            "Epoch 144/150\n",
            "613/613 [==============================] - 0s 167us/step - loss: 0.5081 - acc: 0.7732\n",
            "Epoch 145/150\n",
            "613/613 [==============================] - 0s 164us/step - loss: 0.5109 - acc: 0.7732\n",
            "Epoch 146/150\n",
            "613/613 [==============================] - 0s 184us/step - loss: 0.5219 - acc: 0.7471\n",
            "Epoch 147/150\n",
            "613/613 [==============================] - 0s 175us/step - loss: 0.5175 - acc: 0.7586\n",
            "Epoch 148/150\n",
            "613/613 [==============================] - 0s 171us/step - loss: 0.5377 - acc: 0.7390\n",
            "Epoch 149/150\n",
            "613/613 [==============================] - 0s 161us/step - loss: 0.5264 - acc: 0.7308\n",
            "Epoch 150/150\n",
            "613/613 [==============================] - 0s 163us/step - loss: 0.5076 - acc: 0.7602\n"
          ],
          "name": "stdout"
        },
        {
          "output_type": "execute_result",
          "data": {
            "text/plain": [
              "<keras.callbacks.History at 0x7f4473160748>"
            ]
          },
          "metadata": {
            "tags": []
          },
          "execution_count": 33
        }
      ]
    },
    {
      "cell_type": "code",
      "metadata": {
        "id": "mbbwS7_dYl6f",
        "colab_type": "code",
        "colab": {
          "base_uri": "https://localhost:8080/",
          "height": 51
        },
        "outputId": "f856bde3-8512-46b4-fe22-979b624e2844"
      },
      "source": [
        "_, accuracy = model.evaluate(X, y)\n",
        "print('Accuracy: %.2f' % (accuracy*100))"
      ],
      "execution_count": 34,
      "outputs": [
        {
          "output_type": "stream",
          "text": [
            "613/613 [==============================] - 0s 145us/step\n",
            "Accuracy: 73.57\n"
          ],
          "name": "stdout"
        }
      ]
    },
    {
      "cell_type": "code",
      "metadata": {
        "id": "FbBhxP5IY4tB",
        "colab_type": "code",
        "colab": {}
      },
      "source": [
        ""
      ],
      "execution_count": 0,
      "outputs": []
    }
  ]
}
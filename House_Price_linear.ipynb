{
  "nbformat": 4,
  "nbformat_minor": 0,
  "metadata": {
    "colab": {
      "name": "House Price linear.ipynb",
      "version": "0.3.2",
      "provenance": [],
      "include_colab_link": true
    },
    "kernelspec": {
      "name": "python3",
      "display_name": "Python 3"
    }
  },
  "cells": [
    {
      "cell_type": "markdown",
      "metadata": {
        "id": "view-in-github",
        "colab_type": "text"
      },
      "source": [
        "<a href=\"https://colab.research.google.com/github/nanofaroque/deeplearning/blob/master/House_Price_linear.ipynb\" target=\"_parent\"><img src=\"https://colab.research.google.com/assets/colab-badge.svg\" alt=\"Open In Colab\"/></a>"
      ]
    },
    {
      "metadata": {
        "id": "vpARDEcq-LFV",
        "colab_type": "code",
        "colab": {
          "base_uri": "https://localhost:8080/",
          "height": 374
        },
        "outputId": "ccf86364-eb99-4e7b-bf67-33b5e34d21fd"
      },
      "cell_type": "code",
      "source": [
        "import tensorflow as tf\n",
        "import numpy as np\n",
        "from tensorflow import keras\n",
        "model =keras.Sequential([keras.layers.Dense(units=1, input_shape=[1])]);\n",
        "model.compile(optimizer=\"sgd\", loss='mean_squared_error')\n",
        "xs = [1,2,3,4,5,6]\n",
        "ys = [100,150,200,250,300,350]\n",
        "model.fit(xs,ys,epochs=10)\n",
        "print(model.predict([7.0]))"
      ],
      "execution_count": 9,
      "outputs": [
        {
          "output_type": "stream",
          "text": [
            "Epoch 1/10\n",
            "6/6 [==============================] - 0s 19ms/sample - loss: 59026.6562\n",
            "Epoch 2/10\n",
            "6/6 [==============================] - 0s 1ms/sample - loss: 27452.9844\n",
            "Epoch 3/10\n",
            "6/6 [==============================] - 0s 283us/sample - loss: 12838.7627\n",
            "Epoch 4/10\n",
            "6/6 [==============================] - 0s 272us/sample - loss: 6073.8965\n",
            "Epoch 5/10\n",
            "6/6 [==============================] - 0s 305us/sample - loss: 2941.9531\n",
            "Epoch 6/10\n",
            "6/6 [==============================] - 0s 279us/sample - loss: 1491.4438\n",
            "Epoch 7/10\n",
            "6/6 [==============================] - 0s 219us/sample - loss: 819.1589\n",
            "Epoch 8/10\n",
            "6/6 [==============================] - 0s 427us/sample - loss: 507.0655\n",
            "Epoch 9/10\n",
            "6/6 [==============================] - 0s 387us/sample - loss: 361.6876\n",
            "Epoch 10/10\n",
            "6/6 [==============================] - 0s 440us/sample - loss: 293.4769\n",
            "[[413.0968]]\n"
          ],
          "name": "stdout"
        }
      ]
    }
  ]
}
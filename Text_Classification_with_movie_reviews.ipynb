{
  "nbformat": 4,
  "nbformat_minor": 0,
  "metadata": {
    "colab": {
      "name": "Text Classification with movie reviews.ipynb",
      "version": "0.3.2",
      "provenance": [],
      "include_colab_link": true
    },
    "kernelspec": {
      "name": "python3",
      "display_name": "Python 3"
    }
  },
  "cells": [
    {
      "cell_type": "markdown",
      "metadata": {
        "id": "view-in-github",
        "colab_type": "text"
      },
      "source": [
        "<a href=\"https://colab.research.google.com/github/nanofaroque/deeplearning/blob/master/Text_Classification_with_movie_reviews.ipynb\" target=\"_parent\"><img src=\"https://colab.research.google.com/assets/colab-badge.svg\" alt=\"Open In Colab\"/></a>"
      ]
    },
    {
      "metadata": {
        "id": "do-wnQp17SLJ",
        "colab_type": "code",
        "colab": {
          "base_uri": "https://localhost:8080/",
          "height": 34
        },
        "outputId": "d381f9cd-1ea0-4426-ece8-1a2b0200af9e"
      },
      "cell_type": "code",
      "source": [
        "from __future__ import absolute_import, division, print_function\n",
        "import tensorflow as tf\n",
        "from tensorflow import keras\n",
        "import numpy as np\n",
        "print(tf.__version__)"
      ],
      "execution_count": 1,
      "outputs": [
        {
          "output_type": "stream",
          "text": [
            "1.13.1\n"
          ],
          "name": "stdout"
        }
      ]
    },
    {
      "metadata": {
        "id": "hVJoBA_d7ygx",
        "colab_type": "code",
        "colab": {}
      },
      "cell_type": "code",
      "source": [
        "imdb = keras.datasets.imdb\n",
        "(train_data, train_labels), (test_data, test_labels)=imdb.load_data(num_words=10000)"
      ],
      "execution_count": 0,
      "outputs": []
    },
    {
      "metadata": {
        "id": "yKn-x9a38ZEs",
        "colab_type": "code",
        "colab": {
          "base_uri": "https://localhost:8080/",
          "height": 34
        },
        "outputId": "4521266f-0a36-42a1-b030-da5609b61dd6"
      },
      "cell_type": "code",
      "source": [
        "print(\"Training entries: {}, labels: {}\".format(len(train_data), len(train_labels)))\n"
      ],
      "execution_count": 6,
      "outputs": [
        {
          "output_type": "stream",
          "text": [
            "Training entries: 25000, labels: 25000\n"
          ],
          "name": "stdout"
        }
      ]
    },
    {
      "metadata": {
        "id": "4ozXKEmI8eWe",
        "colab_type": "code",
        "colab": {
          "base_uri": "https://localhost:8080/",
          "height": 54
        },
        "outputId": "7257b936-a37d-4ea5-c8b0-1cf4f84fac47"
      },
      "cell_type": "code",
      "source": [
        "print(train_data[0])\n"
      ],
      "execution_count": 7,
      "outputs": [
        {
          "output_type": "stream",
          "text": [
            "[1, 14, 22, 16, 43, 530, 973, 1622, 1385, 65, 458, 4468, 66, 3941, 4, 173, 36, 256, 5, 25, 100, 43, 838, 112, 50, 670, 2, 9, 35, 480, 284, 5, 150, 4, 172, 112, 167, 2, 336, 385, 39, 4, 172, 4536, 1111, 17, 546, 38, 13, 447, 4, 192, 50, 16, 6, 147, 2025, 19, 14, 22, 4, 1920, 4613, 469, 4, 22, 71, 87, 12, 16, 43, 530, 38, 76, 15, 13, 1247, 4, 22, 17, 515, 17, 12, 16, 626, 18, 2, 5, 62, 386, 12, 8, 316, 8, 106, 5, 4, 2223, 5244, 16, 480, 66, 3785, 33, 4, 130, 12, 16, 38, 619, 5, 25, 124, 51, 36, 135, 48, 25, 1415, 33, 6, 22, 12, 215, 28, 77, 52, 5, 14, 407, 16, 82, 2, 8, 4, 107, 117, 5952, 15, 256, 4, 2, 7, 3766, 5, 723, 36, 71, 43, 530, 476, 26, 400, 317, 46, 7, 4, 2, 1029, 13, 104, 88, 4, 381, 15, 297, 98, 32, 2071, 56, 26, 141, 6, 194, 7486, 18, 4, 226, 22, 21, 134, 476, 26, 480, 5, 144, 30, 5535, 18, 51, 36, 28, 224, 92, 25, 104, 4, 226, 65, 16, 38, 1334, 88, 12, 16, 283, 5, 16, 4472, 113, 103, 32, 15, 16, 5345, 19, 178, 32]\n"
          ],
          "name": "stdout"
        }
      ]
    },
    {
      "metadata": {
        "id": "SofgHTUv8iSj",
        "colab_type": "code",
        "colab": {
          "base_uri": "https://localhost:8080/",
          "height": 34
        },
        "outputId": "e8f716c0-5431-44db-e5bc-86e7c225fad0"
      },
      "cell_type": "code",
      "source": [
        "len(train_data[0]), len(train_data[1])\n"
      ],
      "execution_count": 8,
      "outputs": [
        {
          "output_type": "execute_result",
          "data": {
            "text/plain": [
              "(218, 189)"
            ]
          },
          "metadata": {
            "tags": []
          },
          "execution_count": 8
        }
      ]
    },
    {
      "metadata": {
        "id": "0rkttWVf8lux",
        "colab_type": "code",
        "colab": {
          "base_uri": "https://localhost:8080/",
          "height": 71
        },
        "outputId": "2af41500-c414-4eb5-8fcd-d8f41ed5a8dc"
      },
      "cell_type": "code",
      "source": [
        "# A dictionary mapping words to an integer index\n",
        "word_index = imdb.get_word_index()\n",
        "\n",
        "# The first indices are reserved\n",
        "word_index = {k:(v+3) for k,v in word_index.items()} \n",
        "word_index[\"<PAD>\"] = 0\n",
        "word_index[\"<START>\"] = 1\n",
        "word_index[\"<UNK>\"] = 2  # unknown\n",
        "word_index[\"<UNUSED>\"] = 3\n",
        "\n",
        "reverse_word_index = dict([(value, key) for (key, value) in word_index.items()])\n",
        "\n",
        "def decode_review(text):\n",
        "    return ' '.join([reverse_word_index.get(i, '?') for i in text])"
      ],
      "execution_count": 9,
      "outputs": [
        {
          "output_type": "stream",
          "text": [
            "Downloading data from https://storage.googleapis.com/tensorflow/tf-keras-datasets/imdb_word_index.json\n",
            "1646592/1641221 [==============================] - 0s 0us/step\n"
          ],
          "name": "stdout"
        }
      ]
    },
    {
      "metadata": {
        "id": "_yWQxjpi8sAq",
        "colab_type": "code",
        "colab": {
          "base_uri": "https://localhost:8080/",
          "height": 54
        },
        "outputId": "0adad6b3-bb24-45bf-c55b-7d768ff922db"
      },
      "cell_type": "code",
      "source": [
        "decode_review(train_data[0])\n"
      ],
      "execution_count": 10,
      "outputs": [
        {
          "output_type": "execute_result",
          "data": {
            "text/plain": [
              "\"<START> this film was just brilliant casting location scenery story direction everyone's really suited the part they played and you could just imagine being there robert <UNK> is an amazing actor and now the same being director <UNK> father came from the same scottish island as myself so i loved the fact there was a real connection with this film the witty remarks throughout the film were great it was just brilliant so much that i bought the film as soon as it was released for <UNK> and would recommend it to everyone to watch and the fly fishing was amazing really cried at the end it was so sad and you know what they say if you cry at a film it must have been good and this definitely was also <UNK> to the two little boy's that played the <UNK> of norman and paul they were just brilliant children are often left out of the <UNK> list i think because the stars that play them all grown up are such a big profile for the whole film but these children are amazing and should be praised for what they have done don't you think the whole story was so lovely because it was true and was someone's life after all that was shared with us all\""
            ]
          },
          "metadata": {
            "tags": []
          },
          "execution_count": 10
        }
      ]
    },
    {
      "metadata": {
        "id": "qLeIDnj18u_Z",
        "colab_type": "code",
        "colab": {}
      },
      "cell_type": "code",
      "source": [
        "train_data = keras.preprocessing.sequence.pad_sequences(train_data,\n",
        "                                                        value=word_index[\"<PAD>\"],\n",
        "                                                        padding='post',\n",
        "                                                        maxlen=256)\n",
        "\n",
        "test_data = keras.preprocessing.sequence.pad_sequences(test_data,\n",
        "                                                       value=word_index[\"<PAD>\"],\n",
        "                                                       padding='post',\n",
        "                                                       maxlen=256)"
      ],
      "execution_count": 0,
      "outputs": []
    },
    {
      "metadata": {
        "id": "O6s0Y61m85wZ",
        "colab_type": "code",
        "colab": {
          "base_uri": "https://localhost:8080/",
          "height": 34
        },
        "outputId": "3fabbaba-ade3-4274-becc-c94a7e149654"
      },
      "cell_type": "code",
      "source": [
        "len(train_data[0]), len(train_data[1])\n"
      ],
      "execution_count": 12,
      "outputs": [
        {
          "output_type": "execute_result",
          "data": {
            "text/plain": [
              "(256, 256)"
            ]
          },
          "metadata": {
            "tags": []
          },
          "execution_count": 12
        }
      ]
    },
    {
      "metadata": {
        "id": "Rqrb-nre87xp",
        "colab_type": "code",
        "colab": {
          "base_uri": "https://localhost:8080/",
          "height": 340
        },
        "outputId": "1df5a1f5-177a-423d-c7f3-99880d773f89"
      },
      "cell_type": "code",
      "source": [
        "print(train_data[0])"
      ],
      "execution_count": 13,
      "outputs": [
        {
          "output_type": "stream",
          "text": [
            "[   1   14   22   16   43  530  973 1622 1385   65  458 4468   66 3941\n",
            "    4  173   36  256    5   25  100   43  838  112   50  670    2    9\n",
            "   35  480  284    5  150    4  172  112  167    2  336  385   39    4\n",
            "  172 4536 1111   17  546   38   13  447    4  192   50   16    6  147\n",
            " 2025   19   14   22    4 1920 4613  469    4   22   71   87   12   16\n",
            "   43  530   38   76   15   13 1247    4   22   17  515   17   12   16\n",
            "  626   18    2    5   62  386   12    8  316    8  106    5    4 2223\n",
            " 5244   16  480   66 3785   33    4  130   12   16   38  619    5   25\n",
            "  124   51   36  135   48   25 1415   33    6   22   12  215   28   77\n",
            "   52    5   14  407   16   82    2    8    4  107  117 5952   15  256\n",
            "    4    2    7 3766    5  723   36   71   43  530  476   26  400  317\n",
            "   46    7    4    2 1029   13  104   88    4  381   15  297   98   32\n",
            " 2071   56   26  141    6  194 7486   18    4  226   22   21  134  476\n",
            "   26  480    5  144   30 5535   18   51   36   28  224   92   25  104\n",
            "    4  226   65   16   38 1334   88   12   16  283    5   16 4472  113\n",
            "  103   32   15   16 5345   19  178   32    0    0    0    0    0    0\n",
            "    0    0    0    0    0    0    0    0    0    0    0    0    0    0\n",
            "    0    0    0    0    0    0    0    0    0    0    0    0    0    0\n",
            "    0    0    0    0]\n"
          ],
          "name": "stdout"
        }
      ]
    },
    {
      "metadata": {
        "id": "frRatQAx8-UJ",
        "colab_type": "code",
        "colab": {
          "base_uri": "https://localhost:8080/",
          "height": 343
        },
        "outputId": "35276285-50ca-4fc8-ec67-d5d160834064"
      },
      "cell_type": "code",
      "source": [
        "vocab_size = 10000\n",
        "\n",
        "model = keras.Sequential()\n",
        "model.add(keras.layers.Embedding(vocab_size, 16))\n",
        "model.add(keras.layers.GlobalAveragePooling1D())\n",
        "model.add(keras.layers.Dense(16, activation=tf.nn.relu))\n",
        "model.add(keras.layers.Dense(1, activation=tf.nn.sigmoid))\n",
        "\n",
        "model.summary()\n"
      ],
      "execution_count": 14,
      "outputs": [
        {
          "output_type": "stream",
          "text": [
            "WARNING:tensorflow:From /usr/local/lib/python3.6/dist-packages/tensorflow/python/ops/resource_variable_ops.py:435: colocate_with (from tensorflow.python.framework.ops) is deprecated and will be removed in a future version.\n",
            "Instructions for updating:\n",
            "Colocations handled automatically by placer.\n",
            "_________________________________________________________________\n",
            "Layer (type)                 Output Shape              Param #   \n",
            "=================================================================\n",
            "embedding (Embedding)        (None, None, 16)          160000    \n",
            "_________________________________________________________________\n",
            "global_average_pooling1d (Gl (None, 16)                0         \n",
            "_________________________________________________________________\n",
            "dense (Dense)                (None, 16)                272       \n",
            "_________________________________________________________________\n",
            "dense_1 (Dense)              (None, 1)                 17        \n",
            "=================================================================\n",
            "Total params: 160,289\n",
            "Trainable params: 160,289\n",
            "Non-trainable params: 0\n",
            "_________________________________________________________________\n"
          ],
          "name": "stdout"
        }
      ]
    },
    {
      "metadata": {
        "id": "TcDc0a9_9Big",
        "colab_type": "code",
        "colab": {}
      },
      "cell_type": "code",
      "source": [
        ""
      ],
      "execution_count": 0,
      "outputs": []
    },
    {
      "metadata": {
        "id": "Ydxbova79ETW",
        "colab_type": "code",
        "colab": {}
      },
      "cell_type": "code",
      "source": [
        "model.compile(optimizer='adam',\n",
        "              loss='binary_crossentropy',\n",
        "              metrics=['acc'])\n"
      ],
      "execution_count": 0,
      "outputs": []
    },
    {
      "metadata": {
        "id": "9Il4srD_9E_c",
        "colab_type": "code",
        "colab": {}
      },
      "cell_type": "code",
      "source": [
        "x_val = train_data[:10000]\n",
        "partial_x_train = train_data[10000:]\n",
        "\n",
        "y_val = train_labels[:10000]\n",
        "partial_y_train = train_labels[10000:]"
      ],
      "execution_count": 0,
      "outputs": []
    },
    {
      "metadata": {
        "id": "rFgKLBAF9HHE",
        "colab_type": "code",
        "colab": {
          "base_uri": "https://localhost:8080/",
          "height": 1465
        },
        "outputId": "cc350400-84f6-49ab-8f06-92cc1740128a"
      },
      "cell_type": "code",
      "source": [
        "history = model.fit(partial_x_train,\n",
        "                    partial_y_train,\n",
        "                    epochs=40,\n",
        "                    batch_size=512,\n",
        "                    validation_data=(x_val, y_val),\n",
        "                    verbose=1)"
      ],
      "execution_count": 17,
      "outputs": [
        {
          "output_type": "stream",
          "text": [
            "Train on 15000 samples, validate on 10000 samples\n",
            "WARNING:tensorflow:From /usr/local/lib/python3.6/dist-packages/tensorflow/python/ops/math_ops.py:3066: to_int32 (from tensorflow.python.ops.math_ops) is deprecated and will be removed in a future version.\n",
            "Instructions for updating:\n",
            "Use tf.cast instead.\n",
            "Epoch 1/40\n",
            "15000/15000 [==============================] - 1s 91us/sample - loss: 0.6917 - acc: 0.6099 - val_loss: 0.6896 - val_acc: 0.6860\n",
            "Epoch 2/40\n",
            "15000/15000 [==============================] - 1s 58us/sample - loss: 0.6858 - acc: 0.6923 - val_loss: 0.6813 - val_acc: 0.7242\n",
            "Epoch 3/40\n",
            "15000/15000 [==============================] - 1s 53us/sample - loss: 0.6732 - acc: 0.7287 - val_loss: 0.6657 - val_acc: 0.7291\n",
            "Epoch 4/40\n",
            "15000/15000 [==============================] - 1s 54us/sample - loss: 0.6520 - acc: 0.7539 - val_loss: 0.6416 - val_acc: 0.7341\n",
            "Epoch 5/40\n",
            "15000/15000 [==============================] - 1s 54us/sample - loss: 0.6211 - acc: 0.7815 - val_loss: 0.6093 - val_acc: 0.7718\n",
            "Epoch 6/40\n",
            "15000/15000 [==============================] - 1s 55us/sample - loss: 0.5822 - acc: 0.8059 - val_loss: 0.5715 - val_acc: 0.8032\n",
            "Epoch 7/40\n",
            "15000/15000 [==============================] - 1s 55us/sample - loss: 0.5380 - acc: 0.8275 - val_loss: 0.5297 - val_acc: 0.8166\n",
            "Epoch 8/40\n",
            "15000/15000 [==============================] - 1s 54us/sample - loss: 0.4928 - acc: 0.8440 - val_loss: 0.4902 - val_acc: 0.8293\n",
            "Epoch 9/40\n",
            "15000/15000 [==============================] - 1s 54us/sample - loss: 0.4499 - acc: 0.8595 - val_loss: 0.4536 - val_acc: 0.8416\n",
            "Epoch 10/40\n",
            "15000/15000 [==============================] - 1s 56us/sample - loss: 0.4111 - acc: 0.8709 - val_loss: 0.4227 - val_acc: 0.8492\n",
            "Epoch 11/40\n",
            "15000/15000 [==============================] - 1s 55us/sample - loss: 0.3777 - acc: 0.8793 - val_loss: 0.3965 - val_acc: 0.8572\n",
            "Epoch 12/40\n",
            "15000/15000 [==============================] - 1s 57us/sample - loss: 0.3492 - acc: 0.8871 - val_loss: 0.3759 - val_acc: 0.8602\n",
            "Epoch 13/40\n",
            "15000/15000 [==============================] - 1s 56us/sample - loss: 0.3257 - acc: 0.8923 - val_loss: 0.3577 - val_acc: 0.8673\n",
            "Epoch 14/40\n",
            "15000/15000 [==============================] - 1s 55us/sample - loss: 0.3045 - acc: 0.8980 - val_loss: 0.3441 - val_acc: 0.8710\n",
            "Epoch 15/40\n",
            "15000/15000 [==============================] - 1s 56us/sample - loss: 0.2868 - acc: 0.9018 - val_loss: 0.3330 - val_acc: 0.8724\n",
            "Epoch 16/40\n",
            "15000/15000 [==============================] - 1s 55us/sample - loss: 0.2709 - acc: 0.9077 - val_loss: 0.3235 - val_acc: 0.8741\n",
            "Epoch 17/40\n",
            "15000/15000 [==============================] - 1s 57us/sample - loss: 0.2564 - acc: 0.9123 - val_loss: 0.3156 - val_acc: 0.8767\n",
            "Epoch 18/40\n",
            "15000/15000 [==============================] - 1s 56us/sample - loss: 0.2436 - acc: 0.9172 - val_loss: 0.3088 - val_acc: 0.8790\n",
            "Epoch 19/40\n",
            "15000/15000 [==============================] - 1s 55us/sample - loss: 0.2320 - acc: 0.9203 - val_loss: 0.3030 - val_acc: 0.8814\n",
            "Epoch 20/40\n",
            "15000/15000 [==============================] - 1s 56us/sample - loss: 0.2216 - acc: 0.9237 - val_loss: 0.2988 - val_acc: 0.8804\n",
            "Epoch 21/40\n",
            "15000/15000 [==============================] - 1s 56us/sample - loss: 0.2111 - acc: 0.9288 - val_loss: 0.2952 - val_acc: 0.8815\n",
            "Epoch 22/40\n",
            "15000/15000 [==============================] - 1s 56us/sample - loss: 0.2023 - acc: 0.9310 - val_loss: 0.2923 - val_acc: 0.8829\n",
            "Epoch 23/40\n",
            "15000/15000 [==============================] - 1s 54us/sample - loss: 0.1934 - acc: 0.9352 - val_loss: 0.2905 - val_acc: 0.8832\n",
            "Epoch 24/40\n",
            "15000/15000 [==============================] - 1s 54us/sample - loss: 0.1857 - acc: 0.9393 - val_loss: 0.2881 - val_acc: 0.8839\n",
            "Epoch 25/40\n",
            "15000/15000 [==============================] - 1s 56us/sample - loss: 0.1778 - acc: 0.9427 - val_loss: 0.2864 - val_acc: 0.8845\n",
            "Epoch 26/40\n",
            "15000/15000 [==============================] - 1s 55us/sample - loss: 0.1708 - acc: 0.9455 - val_loss: 0.2863 - val_acc: 0.8828\n",
            "Epoch 27/40\n",
            "15000/15000 [==============================] - 1s 58us/sample - loss: 0.1642 - acc: 0.9487 - val_loss: 0.2854 - val_acc: 0.8843\n",
            "Epoch 28/40\n",
            "15000/15000 [==============================] - 1s 56us/sample - loss: 0.1578 - acc: 0.9515 - val_loss: 0.2850 - val_acc: 0.8852\n",
            "Epoch 29/40\n",
            "15000/15000 [==============================] - 1s 56us/sample - loss: 0.1524 - acc: 0.9537 - val_loss: 0.2865 - val_acc: 0.8833\n",
            "Epoch 30/40\n",
            "15000/15000 [==============================] - 1s 54us/sample - loss: 0.1466 - acc: 0.9554 - val_loss: 0.2853 - val_acc: 0.8857\n",
            "Epoch 31/40\n",
            "15000/15000 [==============================] - 1s 55us/sample - loss: 0.1409 - acc: 0.9582 - val_loss: 0.2860 - val_acc: 0.8855\n",
            "Epoch 32/40\n",
            "15000/15000 [==============================] - 1s 54us/sample - loss: 0.1355 - acc: 0.9598 - val_loss: 0.2870 - val_acc: 0.8862\n",
            "Epoch 33/40\n",
            "15000/15000 [==============================] - 1s 55us/sample - loss: 0.1305 - acc: 0.9619 - val_loss: 0.2889 - val_acc: 0.8842\n",
            "Epoch 34/40\n",
            "15000/15000 [==============================] - 1s 56us/sample - loss: 0.1260 - acc: 0.9641 - val_loss: 0.2901 - val_acc: 0.8867\n",
            "Epoch 35/40\n",
            "15000/15000 [==============================] - 1s 57us/sample - loss: 0.1218 - acc: 0.9649 - val_loss: 0.2926 - val_acc: 0.8853\n",
            "Epoch 36/40\n",
            "15000/15000 [==============================] - 1s 55us/sample - loss: 0.1173 - acc: 0.9674 - val_loss: 0.2938 - val_acc: 0.8856\n",
            "Epoch 37/40\n",
            "15000/15000 [==============================] - 1s 55us/sample - loss: 0.1130 - acc: 0.9690 - val_loss: 0.2958 - val_acc: 0.8846\n",
            "Epoch 38/40\n",
            "15000/15000 [==============================] - 1s 55us/sample - loss: 0.1090 - acc: 0.9703 - val_loss: 0.2987 - val_acc: 0.8839\n",
            "Epoch 39/40\n",
            "15000/15000 [==============================] - 1s 55us/sample - loss: 0.1058 - acc: 0.9714 - val_loss: 0.3014 - val_acc: 0.8833\n",
            "Epoch 40/40\n",
            "15000/15000 [==============================] - 1s 55us/sample - loss: 0.1018 - acc: 0.9725 - val_loss: 0.3033 - val_acc: 0.8842\n"
          ],
          "name": "stdout"
        }
      ]
    },
    {
      "metadata": {
        "id": "uf2dLJxZ9I2b",
        "colab_type": "code",
        "colab": {
          "base_uri": "https://localhost:8080/",
          "height": 71
        },
        "outputId": "31d6b927-9b69-4d3d-bfc4-77ee1f388d7c"
      },
      "cell_type": "code",
      "source": [
        "results = model.evaluate(test_data, test_labels)\n",
        "\n",
        "print(results)\n"
      ],
      "execution_count": 18,
      "outputs": [
        {
          "output_type": "stream",
          "text": [
            "25000/25000 [==============================] - 1s 38us/sample - loss: 0.3232 - acc: 0.8730\n",
            "[0.3231724760389328, 0.87304]\n"
          ],
          "name": "stdout"
        }
      ]
    },
    {
      "metadata": {
        "id": "0uLyWrO59Sf2",
        "colab_type": "code",
        "colab": {
          "base_uri": "https://localhost:8080/",
          "height": 34
        },
        "outputId": "bd74ce72-51d0-40c2-cf4a-fa7ed76d6be4"
      },
      "cell_type": "code",
      "source": [
        "history_dict = history.history\n",
        "history_dict.keys()"
      ],
      "execution_count": 19,
      "outputs": [
        {
          "output_type": "execute_result",
          "data": {
            "text/plain": [
              "dict_keys(['loss', 'acc', 'val_loss', 'val_acc'])"
            ]
          },
          "metadata": {
            "tags": []
          },
          "execution_count": 19
        }
      ]
    },
    {
      "metadata": {
        "id": "xYyP8f5g9Vel",
        "colab_type": "code",
        "colab": {
          "base_uri": "https://localhost:8080/",
          "height": 295
        },
        "outputId": "1a89804e-a307-430b-db1e-dfc1695cd361"
      },
      "cell_type": "code",
      "source": [
        "import matplotlib.pyplot as plt\n",
        "\n",
        "acc = history_dict['acc']\n",
        "val_acc = history_dict['val_acc']\n",
        "loss = history_dict['loss']\n",
        "val_loss = history_dict['val_loss']\n",
        "\n",
        "epochs = range(1, len(acc) + 1)\n",
        "\n",
        "# \"bo\" is for \"blue dot\"\n",
        "plt.plot(epochs, loss, 'bo', label='Training loss')\n",
        "# b is for \"solid blue line\"\n",
        "plt.plot(epochs, val_loss, 'b', label='Validation loss')\n",
        "plt.title('Training and validation loss')\n",
        "plt.xlabel('Epochs')\n",
        "plt.ylabel('Loss')\n",
        "plt.legend()\n",
        "\n",
        "plt.show()"
      ],
      "execution_count": 20,
      "outputs": [
        {
          "output_type": "display_data",
          "data": {
            "image/png": "[encoded data removed]",
            "text/plain": [
              "<Figure size 432x288 with 1 Axes>"
            ]
          },
          "metadata": {
            "tags": []
          }
        }
      ]
    },
    {
      "metadata": {
        "id": "vkKRUAMb9YsO",
        "colab_type": "code",
        "colab": {
          "base_uri": "https://localhost:8080/",
          "height": 295
        },
        "outputId": "b93ef486-b54d-49b0-a7da-7a948bd09281"
      },
      "cell_type": "code",
      "source": [
        "plt.clf()   # clear figure\n",
        "\n",
        "plt.plot(epochs, acc, 'bo', label='Training acc')\n",
        "plt.plot(epochs, val_acc, 'b', label='Validation acc')\n",
        "plt.title('Training and validation accuracy')\n",
        "plt.xlabel('Epochs')\n",
        "plt.ylabel('Accuracy')\n",
        "plt.legend()\n",
        "\n",
        "plt.show()\n"
      ],
      "execution_count": 21,
      "outputs": [
        {
          "output_type": "display_data",
          "data": {
            "image/png": "[encoded data removed]",
            "text/plain": [
              "<Figure size 432x288 with 1 Axes>"
            ]
          },
          "metadata": {
            "tags": []
          }
        }
      ]
    },
    {
      "metadata": {
        "id": "RKLYChkz9bSl",
        "colab_type": "code",
        "colab": {}
      },
      "cell_type": "code",
      "source": [
        ""
      ],
      "execution_count": 0,
      "outputs": []
    }
  ]
}